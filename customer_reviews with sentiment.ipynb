{
 "cells": [
  {
   "cell_type": "markdown",
   "id": "985d137c",
   "metadata": {},
   "source": [
    "# 📊 Customer Reviews Sentiment Analysis (SQL + Python + NLTK)\n",
    "\n",
    "This notebook performs sentiment analysis on customer reviews stored in a SQL Server database.  \n",
    "We use Python tools like `pandas`, `pyodbc`, and `nltk` (VADER) to analyze textual sentiment, combine it with rating data, and classify reviews for business insights."
   ]
  },
  {
   "cell_type": "code",
   "execution_count": null,
   "id": "60580b5d",
   "metadata": {},
   "outputs": [
    {
     "name": "stdout",
     "output_type": "stream",
     "text": [
      "Requirement already satisfied: pyodbc in c:\\users\\faza\\appdata\\local\\programs\\python\\python313\\lib\\site-packages (5.2.0)\n",
      "Note: you may need to restart the kernel to use updated packages.\n"
     ]
    },
    {
     "name": "stderr",
     "output_type": "stream",
     "text": [
      "\n",
      "[notice] A new release of pip is available: 25.0.1 -> 25.1.1\n",
      "[notice] To update, run: python.exe -m pip install --upgrade pip\n"
     ]
    }
   ],
   "source": [
    "# 📦 Install required packages\n",
    "pip install pyodbc"
   ]
  },
  {
   "cell_type": "code",
   "execution_count": 6,
   "id": "ab549834",
   "metadata": {},
   "outputs": [
    {
     "name": "stderr",
     "output_type": "stream",
     "text": [
      "[nltk_data] Downloading package vader_lexicon to\n",
      "[nltk_data]     C:\\Users\\FAZA\\AppData\\Roaming\\nltk_data...\n",
      "[nltk_data]   Package vader_lexicon is already up-to-date!\n"
     ]
    },
    {
     "data": {
      "text/plain": [
       "True"
      ]
     },
     "execution_count": 6,
     "metadata": {},
     "output_type": "execute_result"
    }
   ],
   "source": [
    "# pip install pandas nltk pyodbc sqlalchemy\n",
    "\n",
    "import pandas as pd\n",
    "import pyodbc\n",
    "import nltk\n",
    "from nltk.sentiment.vader import SentimentIntensityAnalyzer\n",
    "\n",
    "\n",
    "# Download the VADER lexicon for sentiment analysis if not already present.\n",
    "nltk.download('vader_lexicon')"
   ]
  },
  {
   "cell_type": "markdown",
   "id": "6579adc5",
   "metadata": {},
   "source": [
    "## 🔌 Connect to SQL Server and Fetch Data\n",
    "Define the connection string and retrieve customer reviews data from the SQL Server database."
   ]
  },
  {
   "cell_type": "code",
   "execution_count": 7,
   "id": "b08d9cb8",
   "metadata": {},
   "outputs": [
    {
     "name": "stderr",
     "output_type": "stream",
     "text": [
      "C:\\Users\\FAZA\\AppData\\Local\\Temp\\ipykernel_5760\\1015474308.py:10: UserWarning: pandas only supports SQLAlchemy connectable (engine/connection) or database string URI or sqlite3 DBAPI2 connection. Other DBAPI2 objects are not tested. Please consider using SQLAlchemy.\n",
      "  df = pd.read_sql(query, conn)\n"
     ]
    },
    {
     "data": {
      "text/html": [
       "<div>\n",
       "<style scoped>\n",
       "    .dataframe tbody tr th:only-of-type {\n",
       "        vertical-align: middle;\n",
       "    }\n",
       "\n",
       "    .dataframe tbody tr th {\n",
       "        vertical-align: top;\n",
       "    }\n",
       "\n",
       "    .dataframe thead th {\n",
       "        text-align: right;\n",
       "    }\n",
       "</style>\n",
       "<table border=\"1\" class=\"dataframe\">\n",
       "  <thead>\n",
       "    <tr style=\"text-align: right;\">\n",
       "      <th></th>\n",
       "      <th>ReviewID</th>\n",
       "      <th>CustomerID</th>\n",
       "      <th>ProductID</th>\n",
       "      <th>ReviewDate</th>\n",
       "      <th>Rating</th>\n",
       "      <th>ReviewText</th>\n",
       "    </tr>\n",
       "  </thead>\n",
       "  <tbody>\n",
       "    <tr>\n",
       "      <th>0</th>\n",
       "      <td>1</td>\n",
       "      <td>77</td>\n",
       "      <td>18</td>\n",
       "      <td>2023-12-23</td>\n",
       "      <td>3</td>\n",
       "      <td>Average  experience,  nothing  special.</td>\n",
       "    </tr>\n",
       "    <tr>\n",
       "      <th>1</th>\n",
       "      <td>2</td>\n",
       "      <td>80</td>\n",
       "      <td>19</td>\n",
       "      <td>2024-12-25</td>\n",
       "      <td>5</td>\n",
       "      <td>The  quality  is    top-notch.</td>\n",
       "    </tr>\n",
       "    <tr>\n",
       "      <th>2</th>\n",
       "      <td>3</td>\n",
       "      <td>50</td>\n",
       "      <td>13</td>\n",
       "      <td>2025-01-26</td>\n",
       "      <td>4</td>\n",
       "      <td>Five  stars  for  the  quick  delivery.</td>\n",
       "    </tr>\n",
       "    <tr>\n",
       "      <th>3</th>\n",
       "      <td>4</td>\n",
       "      <td>78</td>\n",
       "      <td>15</td>\n",
       "      <td>2025-04-21</td>\n",
       "      <td>3</td>\n",
       "      <td>Good  quality,  but  could  be  cheaper.</td>\n",
       "    </tr>\n",
       "    <tr>\n",
       "      <th>4</th>\n",
       "      <td>5</td>\n",
       "      <td>64</td>\n",
       "      <td>2</td>\n",
       "      <td>2023-07-16</td>\n",
       "      <td>3</td>\n",
       "      <td>Average  experience,  nothing  special.</td>\n",
       "    </tr>\n",
       "  </tbody>\n",
       "</table>\n",
       "</div>"
      ],
      "text/plain": [
       "   ReviewID  CustomerID  ProductID  ReviewDate  Rating  \\\n",
       "0         1          77         18  2023-12-23       3   \n",
       "1         2          80         19  2024-12-25       5   \n",
       "2         3          50         13  2025-01-26       4   \n",
       "3         4          78         15  2025-04-21       3   \n",
       "4         5          64          2  2023-07-16       3   \n",
       "\n",
       "                                 ReviewText  \n",
       "0   Average  experience,  nothing  special.  \n",
       "1            The  quality  is    top-notch.  \n",
       "2   Five  stars  for  the  quick  delivery.  \n",
       "3  Good  quality,  but  could  be  cheaper.  \n",
       "4   Average  experience,  nothing  special.  "
      ]
     },
     "execution_count": 7,
     "metadata": {},
     "output_type": "execute_result"
    }
   ],
   "source": [
    "def fetch_data_from_sql():\n",
    "    conn_str = (\n",
    "        \"Driver={SQL Server};\"\n",
    "        \"Server=LAPTOP-8JQM3T7N\\\\SQLEXPRESS;\"\n",
    "        \"Database=PortfolioProject_MarketingAnalytics;\"\n",
    "        \"Trusted_Connection=yes;\"\n",
    "    )\n",
    "    conn = pyodbc.connect(conn_str)\n",
    "    query = \"SELECT ReviewID, CustomerID, ProductID, ReviewDate, Rating, ReviewText FROM dbo.customer_reviews\"\n",
    "    df = pd.read_sql(query, conn)\n",
    "    conn.close()\n",
    "    return df\n",
    "\n",
    "# Load data\n",
    "customer_reviews_df = fetch_data_from_sql()\n",
    "customer_reviews_df.head()"
   ]
  },
  {
   "cell_type": "markdown",
   "id": "8b9eebfd",
   "metadata": {},
   "source": [
    "## 🧠 Sentiment Analysis with VADER\n",
    "We'll calculate a **compound sentiment score** from the review text using the VADER analyzer."
   ]
  },
  {
   "cell_type": "code",
   "execution_count": 8,
   "id": "b2e99798",
   "metadata": {},
   "outputs": [
    {
     "data": {
      "text/html": [
       "<div>\n",
       "<style scoped>\n",
       "    .dataframe tbody tr th:only-of-type {\n",
       "        vertical-align: middle;\n",
       "    }\n",
       "\n",
       "    .dataframe tbody tr th {\n",
       "        vertical-align: top;\n",
       "    }\n",
       "\n",
       "    .dataframe thead th {\n",
       "        text-align: right;\n",
       "    }\n",
       "</style>\n",
       "<table border=\"1\" class=\"dataframe\">\n",
       "  <thead>\n",
       "    <tr style=\"text-align: right;\">\n",
       "      <th></th>\n",
       "      <th>ReviewText</th>\n",
       "      <th>SentimentScore</th>\n",
       "    </tr>\n",
       "  </thead>\n",
       "  <tbody>\n",
       "    <tr>\n",
       "      <th>0</th>\n",
       "      <td>Average  experience,  nothing  special.</td>\n",
       "      <td>-0.3089</td>\n",
       "    </tr>\n",
       "    <tr>\n",
       "      <th>1</th>\n",
       "      <td>The  quality  is    top-notch.</td>\n",
       "      <td>0.0000</td>\n",
       "    </tr>\n",
       "    <tr>\n",
       "      <th>2</th>\n",
       "      <td>Five  stars  for  the  quick  delivery.</td>\n",
       "      <td>0.0000</td>\n",
       "    </tr>\n",
       "    <tr>\n",
       "      <th>3</th>\n",
       "      <td>Good  quality,  but  could  be  cheaper.</td>\n",
       "      <td>0.2382</td>\n",
       "    </tr>\n",
       "    <tr>\n",
       "      <th>4</th>\n",
       "      <td>Average  experience,  nothing  special.</td>\n",
       "      <td>-0.3089</td>\n",
       "    </tr>\n",
       "  </tbody>\n",
       "</table>\n",
       "</div>"
      ],
      "text/plain": [
       "                                 ReviewText  SentimentScore\n",
       "0   Average  experience,  nothing  special.         -0.3089\n",
       "1            The  quality  is    top-notch.          0.0000\n",
       "2   Five  stars  for  the  quick  delivery.          0.0000\n",
       "3  Good  quality,  but  could  be  cheaper.          0.2382\n",
       "4   Average  experience,  nothing  special.         -0.3089"
      ]
     },
     "execution_count": 8,
     "metadata": {},
     "output_type": "execute_result"
    }
   ],
   "source": [
    "# Initialize VADER\n",
    "sia = SentimentIntensityAnalyzer()\n",
    "\n",
    "# Function to get compound score\n",
    "def calculate_sentiment(review):\n",
    "    sentiment = sia.polarity_scores(review)\n",
    "    return sentiment['compound']\n",
    "\n",
    "# Apply sentiment analysis\n",
    "customer_reviews_df['SentimentScore'] = customer_reviews_df['ReviewText'].apply(calculate_sentiment)\n",
    "customer_reviews_df[['ReviewText', 'SentimentScore']].head()"
   ]
  },
  {
   "cell_type": "markdown",
   "id": "2690af17",
   "metadata": {},
   "source": [
    "## 🏷️ Categorize Sentiment using Rating and Text\n",
    "Classify reviews into: Positive, Negative, Mixed, or Neutral."
   ]
  },
  {
   "cell_type": "code",
   "execution_count": 9,
   "id": "fd4737c8",
   "metadata": {},
   "outputs": [],
   "source": [
    "# Define a function to categorize sentiment using both the sentiment score and the review rating\n",
    "def categorize_sentiment(score, rating):\n",
    "    # Use both the text sentiment score and the numerical rating to determine sentiment category\n",
    "    if score > 0.05:  # Positive sentiment score\n",
    "        if rating >= 4:\n",
    "            return 'Positive'  # High rating and positive sentiment\n",
    "        elif rating == 3:\n",
    "            return 'Mixed Positive'  # Neutral rating but positive sentiment\n",
    "        else:\n",
    "            return 'Mixed Negative'  # Low rating but positive sentiment\n",
    "    elif score < -0.05:  # Negative sentiment score\n",
    "        if rating <= 2:\n",
    "            return 'Negative'  # Low rating and negative sentiment\n",
    "        elif rating == 3:\n",
    "            return 'Mixed Negative'  # Neutral rating but negative sentiment\n",
    "        else:\n",
    "            return 'Mixed Positive'  # High rating but negative sentiment\n",
    "    else:  # Neutral sentiment score\n",
    "        if rating >= 4:\n",
    "            return 'Positive'  # High rating with neutral sentiment\n",
    "        elif rating <= 2:\n",
    "            return 'Negative'  # Low rating with neutral sentiment\n",
    "        else:\n",
    "            return 'Neutral'  # Neutral rating and neutral sentiment\n",
    "        \n",
    "customer_reviews_df['SentimentCategory'] = customer_reviews_df.apply(\n",
    "    lambda row: categorize_sentiment(row['SentimentScore'], row['Rating']), axis=1)"
   ]
  },
  {
   "cell_type": "markdown",
   "id": "de6e061d",
   "metadata": {},
   "source": [
    "## 📊 Sentiment Score Buckets\n",
    "Bucket the sentiment score into ranges for clearer segmentation."
   ]
  },
  {
   "cell_type": "code",
   "execution_count": 11,
   "id": "833ea420",
   "metadata": {},
   "outputs": [],
   "source": [
    "# Define a function to bucket sentiment scores into text ranges\n",
    "def sentiment_bucket(score):\n",
    "    if score >= 0.5:\n",
    "        return '0.5 to 1.0'  # Strongly positive sentiment\n",
    "    elif 0.0 <= score < 0.5:\n",
    "        return '0.0 to 0.49'  # Mildly positive sentiment\n",
    "    elif -0.5 <= score < 0.0:\n",
    "        return '-0.49 to 0.0'  # Mildly negative sentiment\n",
    "    else:\n",
    "        return '-1.0 to -0.5'  # Strongly negative sentiment\n",
    "    \n",
    "customer_reviews_df['SentimentBucket'] = customer_reviews_df['SentimentScore'].apply(sentiment_bucket)"
   ]
  },
  {
   "cell_type": "markdown",
   "id": "f2abc262",
   "metadata": {},
   "source": [
    "## 📌 Final Output Preview\n",
    "Let's preview the DataFrame with sentiment score, category, and bucket."
   ]
  },
  {
   "cell_type": "code",
   "execution_count": 12,
   "id": "b8d8c27b",
   "metadata": {},
   "outputs": [
    {
     "data": {
      "text/html": [
       "<div>\n",
       "<style scoped>\n",
       "    .dataframe tbody tr th:only-of-type {\n",
       "        vertical-align: middle;\n",
       "    }\n",
       "\n",
       "    .dataframe tbody tr th {\n",
       "        vertical-align: top;\n",
       "    }\n",
       "\n",
       "    .dataframe thead th {\n",
       "        text-align: right;\n",
       "    }\n",
       "</style>\n",
       "<table border=\"1\" class=\"dataframe\">\n",
       "  <thead>\n",
       "    <tr style=\"text-align: right;\">\n",
       "      <th></th>\n",
       "      <th>ReviewText</th>\n",
       "      <th>Rating</th>\n",
       "      <th>SentimentScore</th>\n",
       "      <th>SentimentCategory</th>\n",
       "      <th>SentimentBucket</th>\n",
       "    </tr>\n",
       "  </thead>\n",
       "  <tbody>\n",
       "    <tr>\n",
       "      <th>0</th>\n",
       "      <td>Average  experience,  nothing  special.</td>\n",
       "      <td>3</td>\n",
       "      <td>-0.3089</td>\n",
       "      <td>Mixed Negative</td>\n",
       "      <td>-0.49 to 0.0</td>\n",
       "    </tr>\n",
       "    <tr>\n",
       "      <th>1</th>\n",
       "      <td>The  quality  is    top-notch.</td>\n",
       "      <td>5</td>\n",
       "      <td>0.0000</td>\n",
       "      <td>Positive</td>\n",
       "      <td>0.0 to 0.49</td>\n",
       "    </tr>\n",
       "    <tr>\n",
       "      <th>2</th>\n",
       "      <td>Five  stars  for  the  quick  delivery.</td>\n",
       "      <td>4</td>\n",
       "      <td>0.0000</td>\n",
       "      <td>Positive</td>\n",
       "      <td>0.0 to 0.49</td>\n",
       "    </tr>\n",
       "    <tr>\n",
       "      <th>3</th>\n",
       "      <td>Good  quality,  but  could  be  cheaper.</td>\n",
       "      <td>3</td>\n",
       "      <td>0.2382</td>\n",
       "      <td>Mixed Positive</td>\n",
       "      <td>0.0 to 0.49</td>\n",
       "    </tr>\n",
       "    <tr>\n",
       "      <th>4</th>\n",
       "      <td>Average  experience,  nothing  special.</td>\n",
       "      <td>3</td>\n",
       "      <td>-0.3089</td>\n",
       "      <td>Mixed Negative</td>\n",
       "      <td>-0.49 to 0.0</td>\n",
       "    </tr>\n",
       "    <tr>\n",
       "      <th>5</th>\n",
       "      <td>Customer  support  was  very  helpful.</td>\n",
       "      <td>4</td>\n",
       "      <td>0.6997</td>\n",
       "      <td>Positive</td>\n",
       "      <td>0.5 to 1.0</td>\n",
       "    </tr>\n",
       "    <tr>\n",
       "      <th>6</th>\n",
       "      <td>Average  experience,  nothing  special.</td>\n",
       "      <td>3</td>\n",
       "      <td>-0.3089</td>\n",
       "      <td>Mixed Negative</td>\n",
       "      <td>-0.49 to 0.0</td>\n",
       "    </tr>\n",
       "    <tr>\n",
       "      <th>7</th>\n",
       "      <td>The  quality    is  top-notch.</td>\n",
       "      <td>5</td>\n",
       "      <td>0.0000</td>\n",
       "      <td>Positive</td>\n",
       "      <td>0.0 to 0.49</td>\n",
       "    </tr>\n",
       "    <tr>\n",
       "      <th>8</th>\n",
       "      <td>I  love  this  product,  will  buy  again!</td>\n",
       "      <td>4</td>\n",
       "      <td>0.6696</td>\n",
       "      <td>Positive</td>\n",
       "      <td>0.5 to 1.0</td>\n",
       "    </tr>\n",
       "    <tr>\n",
       "      <th>9</th>\n",
       "      <td>Excellent  product,  highly  recommend!</td>\n",
       "      <td>5</td>\n",
       "      <td>0.7773</td>\n",
       "      <td>Positive</td>\n",
       "      <td>0.5 to 1.0</td>\n",
       "    </tr>\n",
       "  </tbody>\n",
       "</table>\n",
       "</div>"
      ],
      "text/plain": [
       "                                   ReviewText  Rating  SentimentScore  \\\n",
       "0     Average  experience,  nothing  special.       3         -0.3089   \n",
       "1              The  quality  is    top-notch.       5          0.0000   \n",
       "2     Five  stars  for  the  quick  delivery.       4          0.0000   \n",
       "3    Good  quality,  but  could  be  cheaper.       3          0.2382   \n",
       "4     Average  experience,  nothing  special.       3         -0.3089   \n",
       "5      Customer  support  was  very  helpful.       4          0.6997   \n",
       "6     Average  experience,  nothing  special.       3         -0.3089   \n",
       "7              The  quality    is  top-notch.       5          0.0000   \n",
       "8  I  love  this  product,  will  buy  again!       4          0.6696   \n",
       "9     Excellent  product,  highly  recommend!       5          0.7773   \n",
       "\n",
       "  SentimentCategory SentimentBucket  \n",
       "0    Mixed Negative    -0.49 to 0.0  \n",
       "1          Positive     0.0 to 0.49  \n",
       "2          Positive     0.0 to 0.49  \n",
       "3    Mixed Positive     0.0 to 0.49  \n",
       "4    Mixed Negative    -0.49 to 0.0  \n",
       "5          Positive      0.5 to 1.0  \n",
       "6    Mixed Negative    -0.49 to 0.0  \n",
       "7          Positive     0.0 to 0.49  \n",
       "8          Positive      0.5 to 1.0  \n",
       "9          Positive      0.5 to 1.0  "
      ]
     },
     "execution_count": 12,
     "metadata": {},
     "output_type": "execute_result"
    }
   ],
   "source": [
    "customer_reviews_df[['ReviewText', 'Rating', 'SentimentScore', 'SentimentCategory', 'SentimentBucket']].head(10)"
   ]
  },
  {
   "cell_type": "markdown",
   "id": "0b5f3ee6",
   "metadata": {},
   "source": [
    "## 💾 Save Output to CSV\n",
    "Export the enhanced data for further use in dashboards or reports."
   ]
  },
  {
   "cell_type": "code",
   "execution_count": 14,
   "id": "d52aabde",
   "metadata": {},
   "outputs": [
    {
     "name": "stdout",
     "output_type": "stream",
     "text": [
      "✅ File saved successfully.\n"
     ]
    }
   ],
   "source": [
    "# Save the DataFrame with sentiment scores, categories, and buckets to a new CSV file\n",
    "customer_reviews_df.to_csv('fact_customer_reviews_with_sentiment.csv', index=False)\n",
    "print(\"✅ File saved successfully.\")"
   ]
  }
 ],
 "metadata": {
  "kernelspec": {
   "display_name": "Python 3",
   "language": "python",
   "name": "python3"
  },
  "language_info": {
   "codemirror_mode": {
    "name": "ipython",
    "version": 3
   },
   "file_extension": ".py",
   "mimetype": "text/x-python",
   "name": "python",
   "nbconvert_exporter": "python",
   "pygments_lexer": "ipython3",
   "version": "3.13.3"
  }
 },
 "nbformat": 4,
 "nbformat_minor": 5
}
